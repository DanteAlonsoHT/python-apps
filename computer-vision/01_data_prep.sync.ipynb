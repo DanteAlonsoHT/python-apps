{
 "cells": [
  {
   "cell_type": "code",
   "execution_count": 3,
   "id": "bab292d4-247d-4b54-bd46-76504e0c12fd",
   "metadata": {},
   "outputs": [],
   "source": [
    "# https://medium.com/analytics-vidhya/how-to-scrape-google-images-and-build-a-deep-learning-image-dataset-in-12-lines-of-code-b5472f5b5c6\n",
    "# https://docs.fast.ai/tutorial.vision.html\n",
    "# https://developers.google.com/ml-kit/vision/pose-detection/classifying-poses#4_integrate_with_the_ml_kit_quickstart_app\n",
    "# https://colab.research.google.com/drive/19txHpN8exWhstO6WVkfmYYVC6uug_oVR#scrollTo=EtTCrVF9EQZd\n",
    "\n",
    "# https://github.com/joedockrill/image-scraper\n",
    "# https://github.com/fastai/fastbook/blob/master/clean/02_production.ipynb"
   ]
  },
  {
   "cell_type": "code",
   "execution_count": 4,
   "id": "be5dca47",
   "metadata": {},
   "outputs": [],
   "source": [
    "!pip install -Uqq fastbook\n",
    "\n",
    "import fastbook\n",
    "fastbook.setup_book()"
   ]
  },
  {
   "cell_type": "code",
   "execution_count": 5,
   "id": "34b519b2-58bf-4ad8-84c3-a066eb60a55f",
   "metadata": {},
   "outputs": [],
   "source": [
    "from fastbook import *\n",
    "from fastai.vision.widgets import *"
   ]
  },
  {
   "cell_type": "code",
   "execution_count": 7,
   "id": "48cb26d8-06f2-49e9-ba93-5413b3e02fe4",
   "metadata": {},
   "outputs": [
    {
     "data": {
      "text/plain": [
       "<function fastbook.search_images_bing(key, term, min_sz=128, max_images=150)>"
      ]
     },
     "execution_count": 7,
     "metadata": {},
     "output_type": "execute_result"
    }
   ],
   "source": [
    "search_images_bing"
   ]
  },
  {
   "cell_type": "code",
   "execution_count": null,
   "id": "457e08a9",
   "metadata": {},
   "outputs": [],
   "source": []
  },
  {
   "cell_type": "code",
   "execution_count": null,
   "id": "63a4ccdb-378c-4e2e-91f1-8c1b5fdd0392",
   "metadata": {},
   "outputs": [],
   "source": []
  }
 ],
 "metadata": {
  "kernelspec": {
   "display_name": "Python 3 (ipykernel)",
   "language": "python",
   "name": "python3"
  },
  "language_info": {
   "codemirror_mode": {
    "name": "ipython",
    "version": 3
   },
   "file_extension": ".py",
   "mimetype": "text/x-python",
   "name": "python",
   "nbconvert_exporter": "python",
   "pygments_lexer": "ipython3",
   "version": "3.9.5"
  }
 },
 "nbformat": 4,
 "nbformat_minor": 5
}
