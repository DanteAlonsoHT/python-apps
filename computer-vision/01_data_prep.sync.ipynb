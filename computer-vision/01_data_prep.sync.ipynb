{
 "cells": [
  {
   "cell_type": "code",
   "execution_count": 2,
   "id": "bab292d4-247d-4b54-bd46-76504e0c12fd",
   "metadata": {},
   "outputs": [],
   "source": [
    "# https://medium.com/analytics-vidhya/how-to-scrape-google-images-and-build-a-deep-learning-image-dataset-in-12-lines-of-code-b5472f5b5c6\n",
    "# https://docs.fast.ai/tutorial.vision.html\n",
    "# https://developers.google.com/ml-kit/vision/pose-detection/classifying-poses#4_integrate_with_the_ml_kit_quickstart_app\n",
    "# https://colab.research.google.com/drive/19txHpN8exWhstO6WVkfmYYVC6uug_oVR#scrollTo=EtTCrVF9EQZd\n"
   ]
  },
  {
   "cell_type": "code",
   "execution_count": 1,
   "id": "be5dca47",
   "metadata": {},
   "outputs": [
    {
     "name": "stdout",
     "output_type": "stream",
     "text": [
      "Requirement already satisfied: azure-cognitiveservices-search-imagesearch in /home/alpha2phi/miniconda3/lib/python3.9/site-packages (2.0.0)\n",
      "Requirement already satisfied: msrest>=0.5.0 in /home/alpha2phi/miniconda3/lib/python3.9/site-packages (from azure-cognitiveservices-search-imagesearch) (0.6.21)\n",
      "Requirement already satisfied: msrestazure<2.0.0,>=0.4.32 in /home/alpha2phi/miniconda3/lib/python3.9/site-packages (from azure-cognitiveservices-search-imagesearch) (0.6.4)\n",
      "Requirement already satisfied: azure-common~=1.1 in /home/alpha2phi/miniconda3/lib/python3.9/site-packages (from azure-cognitiveservices-search-imagesearch) (1.1.27)\n",
      "Requirement already satisfied: requests-oauthlib>=0.5.0 in /home/alpha2phi/miniconda3/lib/python3.9/site-packages (from msrest>=0.5.0->azure-cognitiveservices-search-imagesearch) (1.3.0)\n",
      "Requirement already satisfied: isodate>=0.6.0 in /home/alpha2phi/miniconda3/lib/python3.9/site-packages (from msrest>=0.5.0->azure-cognitiveservices-search-imagesearch) (0.6.0)\n",
      "Requirement already satisfied: certifi>=2017.4.17 in /home/alpha2phi/miniconda3/lib/python3.9/site-packages (from msrest>=0.5.0->azure-cognitiveservices-search-imagesearch) (2021.5.30)\n",
      "Requirement already satisfied: requests~=2.16 in /home/alpha2phi/miniconda3/lib/python3.9/site-packages (from msrest>=0.5.0->azure-cognitiveservices-search-imagesearch) (2.25.1)\n",
      "Requirement already satisfied: six in /home/alpha2phi/miniconda3/lib/python3.9/site-packages (from isodate>=0.6.0->msrest>=0.5.0->azure-cognitiveservices-search-imagesearch) (1.16.0)\n",
      "Requirement already satisfied: adal<2.0.0,>=0.6.0 in /home/alpha2phi/miniconda3/lib/python3.9/site-packages (from msrestazure<2.0.0,>=0.4.32->azure-cognitiveservices-search-imagesearch) (1.2.7)\n",
      "Requirement already satisfied: python-dateutil<3,>=2.1.0 in /home/alpha2phi/miniconda3/lib/python3.9/site-packages (from adal<2.0.0,>=0.6.0->msrestazure<2.0.0,>=0.4.32->azure-cognitiveservices-search-imagesearch) (2.8.2)\n",
      "Requirement already satisfied: PyJWT<3,>=1.0.0 in /home/alpha2phi/miniconda3/lib/python3.9/site-packages (from adal<2.0.0,>=0.6.0->msrestazure<2.0.0,>=0.4.32->azure-cognitiveservices-search-imagesearch) (2.1.0)\n",
      "Requirement already satisfied: cryptography>=1.1.0 in /home/alpha2phi/miniconda3/lib/python3.9/site-packages (from adal<2.0.0,>=0.6.0->msrestazure<2.0.0,>=0.4.32->azure-cognitiveservices-search-imagesearch) (3.4.7)\n",
      "Requirement already satisfied: cffi>=1.12 in /home/alpha2phi/miniconda3/lib/python3.9/site-packages (from cryptography>=1.1.0->adal<2.0.0,>=0.6.0->msrestazure<2.0.0,>=0.4.32->azure-cognitiveservices-search-imagesearch) (1.14.6)\n",
      "Requirement already satisfied: pycparser in /home/alpha2phi/miniconda3/lib/python3.9/site-packages (from cffi>=1.12->cryptography>=1.1.0->adal<2.0.0,>=0.6.0->msrestazure<2.0.0,>=0.4.32->azure-cognitiveservices-search-imagesearch) (2.20)\n",
      "Requirement already satisfied: idna<3,>=2.5 in /home/alpha2phi/miniconda3/lib/python3.9/site-packages (from requests~=2.16->msrest>=0.5.0->azure-cognitiveservices-search-imagesearch) (2.10)\n",
      "Requirement already satisfied: chardet<5,>=3.0.2 in /home/alpha2phi/miniconda3/lib/python3.9/site-packages (from requests~=2.16->msrest>=0.5.0->azure-cognitiveservices-search-imagesearch) (4.0.0)\n",
      "Requirement already satisfied: urllib3<1.27,>=1.21.1 in /home/alpha2phi/miniconda3/lib/python3.9/site-packages (from requests~=2.16->msrest>=0.5.0->azure-cognitiveservices-search-imagesearch) (1.26.6)\n",
      "Requirement already satisfied: oauthlib>=3.0.0 in /home/alpha2phi/miniconda3/lib/python3.9/site-packages (from requests-oauthlib>=0.5.0->msrest>=0.5.0->azure-cognitiveservices-search-imagesearch) (3.1.1)\n"
     ]
    }
   ],
   "source": [
    "!pip install azure-cognitiveservices-search-imagesearch\n",
    "\n",
    "from azure.cognitiveservices.search.imagesearch import ImageSearchClient as api\n",
    "from msrest.authentication import CognitiveServicesCredentials as auth; import os\n",
    "\n",
    "def search_images_bing(key, term, min_sz=128):\n",
    "    client = api('https://api.cognitive.microsoft.com', auth(key))\n",
    "    return L(client.images.search(query=term, count=150, min_height=min_sz, min_width=min_sz).value)\n",
    "\n",
    "key = 'XXXXX'"
   ]
  },
  {
   "cell_type": "code",
   "execution_count": null,
   "id": "34b519b2-58bf-4ad8-84c3-a066eb60a55f",
   "metadata": {},
   "outputs": [],
   "source": []
  },
  {
   "cell_type": "code",
   "execution_count": null,
   "id": "48cb26d8-06f2-49e9-ba93-5413b3e02fe4",
   "metadata": {},
   "outputs": [],
   "source": []
  },
  {
   "cell_type": "code",
   "execution_count": 7,
   "id": "457e08a9",
   "metadata": {},
   "outputs": [
    {
     "name": "stdout",
     "output_type": "stream",
     "text": [
      "hello\n"
     ]
    }
   ],
   "source": [
    "print(\"hello\")"
   ]
  },
  {
   "cell_type": "code",
   "execution_count": null,
   "id": "63a4ccdb-378c-4e2e-91f1-8c1b5fdd0392",
   "metadata": {},
   "outputs": [],
   "source": []
  }
 ],
 "metadata": {
  "kernelspec": {
   "display_name": "Python 3 (ipykernel)",
   "language": "python",
   "name": "python3"
  },
  "language_info": {
   "codemirror_mode": {
    "name": "ipython",
    "version": 3
   },
   "file_extension": ".py",
   "mimetype": "text/x-python",
   "name": "python",
   "nbconvert_exporter": "python",
   "pygments_lexer": "ipython3",
   "version": "3.9.5"
  }
 },
 "nbformat": 4,
 "nbformat_minor": 5
}
